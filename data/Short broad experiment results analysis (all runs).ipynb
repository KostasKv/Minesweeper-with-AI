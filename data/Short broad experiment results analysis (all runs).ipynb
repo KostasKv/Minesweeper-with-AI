{
 "cells": [
  {
   "cell_type": "code",
   "execution_count": 68,
   "metadata": {},
   "outputs": [],
   "source": [
    "import matplotlib.pyplot as plt\n",
    "import seaborn as sns\n",
    "import pandas as pd"
   ]
  },
  {
   "cell_type": "markdown",
   "metadata": {},
   "source": [
    "# Load and view data"
   ]
  },
  {
   "cell_type": "code",
   "execution_count": 69,
   "metadata": {},
   "outputs": [],
   "source": [
    "# Load data\n",
    "\n",
    "data1 = pd.read_csv('Short broad experiment(run 1).csv')\n",
    "data2 = pd.read_csv('Short broad experiment(run 2).csv')\n",
    "data3 = pd.read_csv('Short broad experiment(run 3).csv')\n",
    "all_runs_data = [data1, data2, data3]"
   ]
  },
  {
   "cell_type": "code",
   "execution_count": 70,
   "metadata": {},
   "outputs": [
    {
     "data": {
      "text/html": [
       "<div>\n",
       "<style scoped>\n",
       "    .dataframe tbody tr th:only-of-type {\n",
       "        vertical-align: middle;\n",
       "    }\n",
       "\n",
       "    .dataframe tbody tr th {\n",
       "        vertical-align: top;\n",
       "    }\n",
       "\n",
       "    .dataframe thead th {\n",
       "        text-align: right;\n",
       "    }\n",
       "</style>\n",
       "<table border=\"1\" class=\"dataframe\">\n",
       "  <thead>\n",
       "    <tr style=\"text-align: right;\">\n",
       "      <th></th>\n",
       "      <th>sample_size</th>\n",
       "      <th>use_num_mines_constraint</th>\n",
       "      <th>wins</th>\n",
       "      <th>num_games</th>\n",
       "      <th>time_elapsed</th>\n",
       "      <th>samples_considered</th>\n",
       "      <th>samples_with_solutions</th>\n",
       "      <th>difficulty</th>\n",
       "    </tr>\n",
       "  </thead>\n",
       "  <tbody>\n",
       "    <tr>\n",
       "      <th>0</th>\n",
       "      <td>(4, 4)</td>\n",
       "      <td>True</td>\n",
       "      <td>337</td>\n",
       "      <td>1000</td>\n",
       "      <td>331.847469</td>\n",
       "      <td>34221</td>\n",
       "      <td>7842</td>\n",
       "      <td>Beginner (9x9)</td>\n",
       "    </tr>\n",
       "    <tr>\n",
       "      <th>1</th>\n",
       "      <td>(4, 4)</td>\n",
       "      <td>False</td>\n",
       "      <td>336</td>\n",
       "      <td>1000</td>\n",
       "      <td>288.720067</td>\n",
       "      <td>34219</td>\n",
       "      <td>7819</td>\n",
       "      <td>Beginner (9x9)</td>\n",
       "    </tr>\n",
       "    <tr>\n",
       "      <th>2</th>\n",
       "      <td>(5, 5)</td>\n",
       "      <td>True</td>\n",
       "      <td>802</td>\n",
       "      <td>1000</td>\n",
       "      <td>242.443622</td>\n",
       "      <td>22435</td>\n",
       "      <td>8508</td>\n",
       "      <td>Beginner (9x9)</td>\n",
       "    </tr>\n",
       "    <tr>\n",
       "      <th>3</th>\n",
       "      <td>(5, 5)</td>\n",
       "      <td>False</td>\n",
       "      <td>793</td>\n",
       "      <td>1000</td>\n",
       "      <td>203.104077</td>\n",
       "      <td>22468</td>\n",
       "      <td>8505</td>\n",
       "      <td>Beginner (9x9)</td>\n",
       "    </tr>\n",
       "    <tr>\n",
       "      <th>4</th>\n",
       "      <td>(6, 6)</td>\n",
       "      <td>True</td>\n",
       "      <td>804</td>\n",
       "      <td>1000</td>\n",
       "      <td>221.211598</td>\n",
       "      <td>17596</td>\n",
       "      <td>6699</td>\n",
       "      <td>Beginner (9x9)</td>\n",
       "    </tr>\n",
       "  </tbody>\n",
       "</table>\n",
       "</div>"
      ],
      "text/plain": [
       "  sample_size  use_num_mines_constraint  wins  num_games  time_elapsed  \\\n",
       "0      (4, 4)                      True   337       1000    331.847469   \n",
       "1      (4, 4)                     False   336       1000    288.720067   \n",
       "2      (5, 5)                      True   802       1000    242.443622   \n",
       "3      (5, 5)                     False   793       1000    203.104077   \n",
       "4      (6, 6)                      True   804       1000    221.211598   \n",
       "\n",
       "   samples_considered  samples_with_solutions      difficulty  \n",
       "0               34221                    7842  Beginner (9x9)  \n",
       "1               34219                    7819  Beginner (9x9)  \n",
       "2               22435                    8508  Beginner (9x9)  \n",
       "3               22468                    8505  Beginner (9x9)  \n",
       "4               17596                    6699  Beginner (9x9)  "
      ]
     },
     "execution_count": 70,
     "metadata": {},
     "output_type": "execute_result"
    }
   ],
   "source": [
    "data1.head()"
   ]
  },
  {
   "cell_type": "code",
   "execution_count": 71,
   "metadata": {},
   "outputs": [
    {
     "data": {
      "text/html": [
       "<div>\n",
       "<style scoped>\n",
       "    .dataframe tbody tr th:only-of-type {\n",
       "        vertical-align: middle;\n",
       "    }\n",
       "\n",
       "    .dataframe tbody tr th {\n",
       "        vertical-align: top;\n",
       "    }\n",
       "\n",
       "    .dataframe thead th {\n",
       "        text-align: right;\n",
       "    }\n",
       "</style>\n",
       "<table border=\"1\" class=\"dataframe\">\n",
       "  <thead>\n",
       "    <tr style=\"text-align: right;\">\n",
       "      <th></th>\n",
       "      <th>wins</th>\n",
       "      <th>wins_without_guess</th>\n",
       "      <th>time_elapsed</th>\n",
       "      <th>samples_considered</th>\n",
       "      <th>samples_with_solutions</th>\n",
       "      <th>difficulty</th>\n",
       "      <th>sample_size</th>\n",
       "      <th>use_num_mines_constraint</th>\n",
       "    </tr>\n",
       "  </thead>\n",
       "  <tbody>\n",
       "    <tr>\n",
       "      <th>0</th>\n",
       "      <td>786</td>\n",
       "      <td>419</td>\n",
       "      <td>492.099509</td>\n",
       "      <td>60809</td>\n",
       "      <td>11206</td>\n",
       "      <td>Beginner (9x9)</td>\n",
       "      <td>4x4</td>\n",
       "      <td>True</td>\n",
       "    </tr>\n",
       "    <tr>\n",
       "      <th>1</th>\n",
       "      <td>574</td>\n",
       "      <td>160</td>\n",
       "      <td>1919.250641</td>\n",
       "      <td>208724</td>\n",
       "      <td>35744</td>\n",
       "      <td>Intermediate (16x16)</td>\n",
       "      <td>4x4</td>\n",
       "      <td>True</td>\n",
       "    </tr>\n",
       "    <tr>\n",
       "      <th>2</th>\n",
       "      <td>146</td>\n",
       "      <td>21</td>\n",
       "      <td>3787.056724</td>\n",
       "      <td>390987</td>\n",
       "      <td>53538</td>\n",
       "      <td>Expert (16x30)</td>\n",
       "      <td>4x4</td>\n",
       "      <td>True</td>\n",
       "    </tr>\n",
       "    <tr>\n",
       "      <th>3</th>\n",
       "      <td>762</td>\n",
       "      <td>402</td>\n",
       "      <td>334.871061</td>\n",
       "      <td>61062</td>\n",
       "      <td>11148</td>\n",
       "      <td>Beginner (9x9)</td>\n",
       "      <td>4x4</td>\n",
       "      <td>False</td>\n",
       "    </tr>\n",
       "    <tr>\n",
       "      <th>4</th>\n",
       "      <td>569</td>\n",
       "      <td>148</td>\n",
       "      <td>1338.485999</td>\n",
       "      <td>209000</td>\n",
       "      <td>35698</td>\n",
       "      <td>Intermediate (16x16)</td>\n",
       "      <td>4x4</td>\n",
       "      <td>False</td>\n",
       "    </tr>\n",
       "  </tbody>\n",
       "</table>\n",
       "</div>"
      ],
      "text/plain": [
       "   wins  wins_without_guess  time_elapsed  samples_considered  \\\n",
       "0   786                 419    492.099509               60809   \n",
       "1   574                 160   1919.250641              208724   \n",
       "2   146                  21   3787.056724              390987   \n",
       "3   762                 402    334.871061               61062   \n",
       "4   569                 148   1338.485999              209000   \n",
       "\n",
       "   samples_with_solutions            difficulty sample_size  \\\n",
       "0                   11206        Beginner (9x9)         4x4   \n",
       "1                   35744  Intermediate (16x16)         4x4   \n",
       "2                   53538        Expert (16x30)         4x4   \n",
       "3                   11148        Beginner (9x9)         4x4   \n",
       "4                   35698  Intermediate (16x16)         4x4   \n",
       "\n",
       "   use_num_mines_constraint  \n",
       "0                      True  \n",
       "1                      True  \n",
       "2                      True  \n",
       "3                     False  \n",
       "4                     False  "
      ]
     },
     "execution_count": 71,
     "metadata": {},
     "output_type": "execute_result"
    }
   ],
   "source": [
    "data2.head()"
   ]
  },
  {
   "cell_type": "code",
   "execution_count": 72,
   "metadata": {
    "scrolled": true
   },
   "outputs": [
    {
     "data": {
      "text/html": [
       "<div>\n",
       "<style scoped>\n",
       "    .dataframe tbody tr th:only-of-type {\n",
       "        vertical-align: middle;\n",
       "    }\n",
       "\n",
       "    .dataframe tbody tr th {\n",
       "        vertical-align: top;\n",
       "    }\n",
       "\n",
       "    .dataframe thead th {\n",
       "        text-align: right;\n",
       "    }\n",
       "</style>\n",
       "<table border=\"1\" class=\"dataframe\">\n",
       "  <thead>\n",
       "    <tr style=\"text-align: right;\">\n",
       "      <th></th>\n",
       "      <th>wins</th>\n",
       "      <th>wins_without_guess</th>\n",
       "      <th>time_elapsed</th>\n",
       "      <th>samples_considered</th>\n",
       "      <th>samples_with_solutions</th>\n",
       "      <th>difficulty</th>\n",
       "      <th>sample_size</th>\n",
       "      <th>use_num_mines_constraint</th>\n",
       "      <th>first_click_pos</th>\n",
       "      <th>first_click_is_zero</th>\n",
       "      <th>parameters_id</th>\n",
       "    </tr>\n",
       "  </thead>\n",
       "  <tbody>\n",
       "    <tr>\n",
       "      <th>0</th>\n",
       "      <td>94</td>\n",
       "      <td>90</td>\n",
       "      <td>91.154057</td>\n",
       "      <td>4758</td>\n",
       "      <td>1342</td>\n",
       "      <td>Beginner (9x9)</td>\n",
       "      <td>4x4</td>\n",
       "      <td>True</td>\n",
       "      <td>NaN</td>\n",
       "      <td>True</td>\n",
       "      <td>1</td>\n",
       "    </tr>\n",
       "    <tr>\n",
       "      <th>1</th>\n",
       "      <td>77</td>\n",
       "      <td>38</td>\n",
       "      <td>94.294395</td>\n",
       "      <td>5932</td>\n",
       "      <td>1061</td>\n",
       "      <td>Beginner (9x9)</td>\n",
       "      <td>4x4</td>\n",
       "      <td>True</td>\n",
       "      <td>NaN</td>\n",
       "      <td>False</td>\n",
       "      <td>2</td>\n",
       "    </tr>\n",
       "    <tr>\n",
       "      <th>2</th>\n",
       "      <td>93</td>\n",
       "      <td>82</td>\n",
       "      <td>95.138067</td>\n",
       "      <td>5078</td>\n",
       "      <td>1348</td>\n",
       "      <td>Beginner (9x9)</td>\n",
       "      <td>4x4</td>\n",
       "      <td>True</td>\n",
       "      <td>NaN</td>\n",
       "      <td>True</td>\n",
       "      <td>1</td>\n",
       "    </tr>\n",
       "    <tr>\n",
       "      <th>3</th>\n",
       "      <td>91</td>\n",
       "      <td>84</td>\n",
       "      <td>95.497410</td>\n",
       "      <td>5095</td>\n",
       "      <td>1372</td>\n",
       "      <td>Beginner (9x9)</td>\n",
       "      <td>4x4</td>\n",
       "      <td>True</td>\n",
       "      <td>NaN</td>\n",
       "      <td>True</td>\n",
       "      <td>1</td>\n",
       "    </tr>\n",
       "    <tr>\n",
       "      <th>4</th>\n",
       "      <td>89</td>\n",
       "      <td>83</td>\n",
       "      <td>96.653554</td>\n",
       "      <td>5201</td>\n",
       "      <td>1330</td>\n",
       "      <td>Beginner (9x9)</td>\n",
       "      <td>4x4</td>\n",
       "      <td>True</td>\n",
       "      <td>NaN</td>\n",
       "      <td>True</td>\n",
       "      <td>1</td>\n",
       "    </tr>\n",
       "  </tbody>\n",
       "</table>\n",
       "</div>"
      ],
      "text/plain": [
       "   wins  wins_without_guess  time_elapsed  samples_considered  \\\n",
       "0    94                  90     91.154057                4758   \n",
       "1    77                  38     94.294395                5932   \n",
       "2    93                  82     95.138067                5078   \n",
       "3    91                  84     95.497410                5095   \n",
       "4    89                  83     96.653554                5201   \n",
       "\n",
       "   samples_with_solutions      difficulty sample_size  \\\n",
       "0                    1342  Beginner (9x9)         4x4   \n",
       "1                    1061  Beginner (9x9)         4x4   \n",
       "2                    1348  Beginner (9x9)         4x4   \n",
       "3                    1372  Beginner (9x9)         4x4   \n",
       "4                    1330  Beginner (9x9)         4x4   \n",
       "\n",
       "   use_num_mines_constraint  first_click_pos  first_click_is_zero  \\\n",
       "0                      True              NaN                 True   \n",
       "1                      True              NaN                False   \n",
       "2                      True              NaN                 True   \n",
       "3                      True              NaN                 True   \n",
       "4                      True              NaN                 True   \n",
       "\n",
       "   parameters_id  \n",
       "0              1  \n",
       "1              2  \n",
       "2              1  \n",
       "3              1  \n",
       "4              1  "
      ]
     },
     "execution_count": 72,
     "metadata": {},
     "output_type": "execute_result"
    }
   ],
   "source": [
    "data3.head()"
   ]
  },
  {
   "cell_type": "code",
   "execution_count": 73,
   "metadata": {},
   "outputs": [
    {
     "name": "stdout",
     "output_type": "stream",
     "text": [
      "Run 1 columns (n=8):\n",
      "difficulty, num_games, sample_size, samples_considered, samples_with_solutions, time_elapsed, use_num_mines_constraint, wins\n",
      "\n",
      "Run 2 columns (n=8):\n",
      "difficulty, sample_size, samples_considered, samples_with_solutions, time_elapsed, use_num_mines_constraint, wins, wins_without_guess\n",
      "\n",
      "Run 3 columns (n=11):\n",
      "difficulty, first_click_is_zero, first_click_pos, parameters_id, sample_size, samples_considered, samples_with_solutions, time_elapsed, use_num_mines_constraint, wins, wins_without_guess\n",
      "\n"
     ]
    }
   ],
   "source": [
    "# Print columns as they are from the source\n",
    "\n",
    "for (run_num, run_data) in enumerate(all_runs_data, 1):\n",
    "    cols = run_data.columns\n",
    "    print(f'Run {run_num} columns (n={len(cols)}):\\n' + ', '.join(sorted(cols)), end='\\n\\n')"
   ]
  },
  {
   "cell_type": "markdown",
   "metadata": {},
   "source": [
    "# Data cleaning"
   ]
  },
  {
   "cell_type": "code",
   "execution_count": 74,
   "metadata": {},
   "outputs": [
    {
     "name": "stdout",
     "output_type": "stream",
     "text": [
      "Run 1 column 'num_games' has only one unique value: 1000. Removing...\n",
      "Run 3 column 'first_click_pos' has only one unique value: nan. Removing...\n"
     ]
    }
   ],
   "source": [
    "# Remove columns with the same value for all rows (i.e., column is not an experiment variable)\n",
    "for (run_num, run_data) in enumerate(all_runs_data, 1):\n",
    "    for x in run_data.columns:\n",
    "        column_data = run_data[x]\n",
    "        column_unique_values = column_data.unique()\n",
    "\n",
    "        if len(column_unique_values) == 1:\n",
    "            print(f\"Run {run_num} column '{x}' has only one unique value: {column_unique_values[0]}. Removing...\")\n",
    "            all_runs_data[run_num - 1] = run_data.drop(x, axis=1)"
   ]
  },
  {
   "cell_type": "markdown",
   "metadata": {},
   "source": [
    "# Analysis"
   ]
  },
  {
   "cell_type": "code",
   "execution_count": 75,
   "metadata": {},
   "outputs": [
    {
     "name": "stdout",
     "output_type": "stream",
     "text": [
      "Run 1 columns (n=7):\n",
      "difficulty, sample_size, samples_considered, samples_with_solutions, time_elapsed, use_num_mines_constraint, wins\n",
      "\n",
      "Run 2 columns (n=8):\n",
      "difficulty, sample_size, samples_considered, samples_with_solutions, time_elapsed, use_num_mines_constraint, wins, wins_without_guess\n",
      "\n",
      "Run 3 columns (n=10):\n",
      "difficulty, first_click_is_zero, parameters_id, sample_size, samples_considered, samples_with_solutions, time_elapsed, use_num_mines_constraint, wins, wins_without_guess\n",
      "\n"
     ]
    }
   ],
   "source": [
    "# Show all labels after removing constant value columns\n",
    "\n",
    "runs_labels = []\n",
    "\n",
    "for (run_num, run_data) in enumerate(all_runs_data, 1):\n",
    "    cols = run_data.columns\n",
    "    runs_labels.append(set(cols))\n",
    "    print(f'Run {run_num} columns (n={len(cols)}):\\n' + ', '.join(sorted(cols)), end='\\n\\n')"
   ]
  },
  {
   "cell_type": "code",
   "execution_count": 78,
   "metadata": {},
   "outputs": [
    {
     "name": "stdout",
     "output_type": "stream",
     "text": [
      "Compared to the first run's columns,\n",
      "\n",
      "Run 2 has 1 extra columns: wins_without_guess\n",
      "Run 3 has 3 extra columns: first_click_is_zero, parameters_id, wins_without_guess\n"
     ]
    }
   ],
   "source": [
    "# Show the extra columns that are included in later runs but not in the first run\n",
    "\n",
    "print(\"Compared to the first run's columns,\\n\")\n",
    "\n",
    "run_1_labels = runs_labels[0]\n",
    "\n",
    "for (run_num, run_labels) in enumerate(runs_labels[1:], 2):\n",
    "    extras = run_labels - run_1_labels\n",
    "    print(f\"Run {run_num} has {len(extras)} extra columns: \" + ', '.join(sorted(extras)), end='\\n')\n",
    "    "
   ]
  },
  {
   "cell_type": "code",
   "execution_count": 77,
   "metadata": {},
   "outputs": [
    {
     "data": {
      "text/plain": [
       "(2148898, 696639, '32.0% samples had solutions')"
      ]
     },
     "execution_count": 77,
     "metadata": {},
     "output_type": "execute_result"
    }
   ],
   "source": [
    "x = data1.samples_considered.sum()\n",
    "y = data1.samples_with_solutions.sum()\n",
    "(x, y, f\"{round(y/x, 2) * 100}% samples had solutions\")"
   ]
  },
  {
   "cell_type": "code",
   "execution_count": 14,
   "metadata": {},
   "outputs": [
    {
     "name": "stdout",
     "output_type": "stream",
     "text": [
      "2.15e+08 total samples, 6.97e+07 with solutions (32.42%)\n"
     ]
    }
   ],
   "source": [
    "total_estimate = x * 100\n",
    "solved_estimate = y * 100\n",
    "proportion_solved = solved_estimate / total_estimate\n",
    "print(\"{:.2e} total samples, {:.2e} with solutions ({:.2f}%)\".format(total_estimate, solved_estimate, proportion_solved * 100))"
   ]
  },
  {
   "cell_type": "code",
   "execution_count": 16,
   "metadata": {},
   "outputs": [
    {
     "data": {
      "image/png": "[encoded data removed]",
      "text/plain": [
       "<Figure size 432x288 with 1 Axes>"
      ]
     },
     "metadata": {
      "needs_background": "light"
     },
     "output_type": "display_data"
    }
   ],
   "source": [
    "sns.barplot(x='difficulty', y='samples_considered', hue='sample_size', data=data1)\n",
    "plt.show()"
   ]
  },
  {
   "cell_type": "code",
   "execution_count": 64,
   "metadata": {},
   "outputs": [
    {
     "data": {
      "text/plain": [
       "0            4x4\n",
       "2            5x5\n",
       "4            6x6\n",
       "6            7x7\n",
       "8            8x8\n",
       "10           9x9\n",
       "12         10x10\n",
       "14    whole grid\n",
       "16           4x4\n",
       "18           5x5\n",
       "20           6x6\n",
       "22           7x7\n",
       "24           8x8\n",
       "26           9x9\n",
       "28         10x10\n",
       "30    whole grid\n",
       "32           4x4\n",
       "34           5x5\n",
       "36           6x6\n",
       "38           7x7\n",
       "40           8x8\n",
       "42           9x9\n",
       "44         10x10\n",
       "46    whole grid\n",
       "1            4x4\n",
       "3            5x5\n",
       "5            6x6\n",
       "7            7x7\n",
       "9            8x8\n",
       "11           9x9\n",
       "13         10x10\n",
       "15    whole grid\n",
       "17           4x4\n",
       "19           5x5\n",
       "21           6x6\n",
       "23           7x7\n",
       "25           8x8\n",
       "27           9x9\n",
       "29         10x10\n",
       "31    whole grid\n",
       "33           4x4\n",
       "35           5x5\n",
       "37           6x6\n",
       "39           7x7\n",
       "41           8x8\n",
       "43           9x9\n",
       "45         10x10\n",
       "47    whole grid\n",
       "Name: sample_size, dtype: object"
      ]
     },
     "execution_count": 64,
     "metadata": {},
     "output_type": "execute_result"
    }
   ],
   "source": [
    "m = data['use_num_mines_constraint'] == True\n",
    "df1, df2 = data[m], data[~m]\n",
    "df1 = df1.drop(columns=['use_num_mines_constraint'])\n",
    "df2 = df2.drop(columns=['use_num_mines_constraint'])\n",
    "\n",
    "df1.difficulty = df1.difficulty.apply(lambda x: x + ' \\nwith mine count')\n",
    "df2.difficulty = df2.difficulty.apply(lambda x: x + ' \\nwithout mine count')\n",
    "\n",
    "modified_data = pd.concat([df1, df2])\n",
    "\n",
    "modified_data.sample_size = modified_data.sample_size.apply(lambda x: 'x'.join(x.strip('()').split(', ')))\n",
    "full_grid_sizes = ['11x11', '18x18', '18x32']\n",
    "modified_data.sample_size = modified_data.sample_size.replace(full_grid_sizes, 'whole grid')\n",
    "modified_data.sample_size"
   ]
  },
  {
   "cell_type": "code",
   "execution_count": 61,
   "metadata": {},
   "outputs": [
    {
     "data": {
      "text/plain": [
       "['Beginner (9x9) \\nwith mine count',\n",
       " 'Beginner (9x9) \\nwithout mine count',\n",
       " 'Intermediate (16x16) \\nwith mine count',\n",
       " 'Intermediate (16x16) \\nwithout mine count',\n",
       " 'Expert (16x30) \\nwith mine count',\n",
       " 'Expert (16x30) \\nwithout mine count']"
      ]
     },
     "execution_count": 61,
     "metadata": {},
     "output_type": "execute_result"
    }
   ],
   "source": [
    "order =['Beginner (9x9) \\nwith mine count',\n",
    "        'Beginner (9x9) \\nwithout mine count',\n",
    "        'Intermediate (16x16) \\nwith mine count',\n",
    "        'Intermediate (16x16) \\nwithout mine count',\n",
    "        'Expert (16x30) \\nwith mine count',\n",
    "        'Expert (16x30) \\nwithout mine count',]\n",
    "order"
   ]
  },
  {
   "cell_type": "code",
   "execution_count": 65,
   "metadata": {},
   "outputs": [
    {
     "data": {
      "image/png": "[encoded data removed]",
      "text/plain": [
       "<Figure size 864x576 with 1 Axes>"
      ]
     },
     "metadata": {
      "needs_background": "light"
     },
     "output_type": "display_data"
    }
   ],
   "source": [
    "sns.barplot(x='difficulty',order=order, y='samples_considered', hue='sample_size', data=modified_data)\n",
    "fig = plt.gcf()\n",
    "fig.set_size_inches(12, 8)\n",
    "plt.show()"
   ]
  },
  {
   "cell_type": "code",
   "execution_count": 66,
   "metadata": {},
   "outputs": [
    {
     "data": {
      "image/png": "[encoded data removed]",
      "text/plain": [
       "<Figure size 864x576 with 1 Axes>"
      ]
     },
     "metadata": {
      "needs_background": "light"
     },
     "output_type": "display_data"
    }
   ],
   "source": [
    "data2 = modified_data\n",
    "data2['win rate (%)'] = (data2.wins / data2.num_games) * 100\n",
    "sns.barplot(x='difficulty', order=order, y='win rate (%)', hue='sample_size', data=data2)\n",
    "fig = plt.gcf()\n",
    "fig.set_size_inches(12, 8)\n",
    "plt.show()"
   ]
  },
  {
   "cell_type": "code",
   "execution_count": 67,
   "metadata": {},
   "outputs": [
    {
     "data": {
      "image/png": "[encoded data removed]",
      "text/plain": [
       "<Figure size 864x576 with 1 Axes>"
      ]
     },
     "metadata": {
      "needs_background": "light"
     },
     "output_type": "display_data"
    }
   ],
   "source": [
    "sns.barplot(x='difficulty', order=order, y='time_elapsed', hue='sample_size', data=data2)\n",
    "fig = plt.gcf()\n",
    "fig.set_size_inches(12, 8)\n",
    "plt.show()"
   ]
  },
  {
   "cell_type": "code",
   "execution_count": 72,
   "metadata": {},
   "outputs": [
    {
     "data": {
      "text/html": [
       "<div>\n",
       "<style scoped>\n",
       "    .dataframe tbody tr th:only-of-type {\n",
       "        vertical-align: middle;\n",
       "    }\n",
       "\n",
       "    .dataframe tbody tr th {\n",
       "        vertical-align: top;\n",
       "    }\n",
       "\n",
       "    .dataframe thead th {\n",
       "        text-align: right;\n",
       "    }\n",
       "</style>\n",
       "<table border=\"1\" class=\"dataframe\">\n",
       "  <thead>\n",
       "    <tr style=\"text-align: right;\">\n",
       "      <th></th>\n",
       "      <th>sample_size</th>\n",
       "      <th>wins</th>\n",
       "      <th>num_games</th>\n",
       "      <th>time_elapsed</th>\n",
       "      <th>samples_considered</th>\n",
       "      <th>samples_with_solutions</th>\n",
       "      <th>difficulty</th>\n",
       "      <th>win rate (%)</th>\n",
       "    </tr>\n",
       "  </thead>\n",
       "  <tbody>\n",
       "    <tr>\n",
       "      <th>14</th>\n",
       "      <td>whole grid</td>\n",
       "      <td>826</td>\n",
       "      <td>1000</td>\n",
       "      <td>69.757486</td>\n",
       "      <td>4533</td>\n",
       "      <td>3275</td>\n",
       "      <td>Beginner (9x9) \\nwith mine count</td>\n",
       "      <td>82.6</td>\n",
       "    </tr>\n",
       "    <tr>\n",
       "      <th>30</th>\n",
       "      <td>whole grid</td>\n",
       "      <td>589</td>\n",
       "      <td>1000</td>\n",
       "      <td>494.558674</td>\n",
       "      <td>7461</td>\n",
       "      <td>5276</td>\n",
       "      <td>Intermediate (16x16) \\nwith mine count</td>\n",
       "      <td>58.9</td>\n",
       "    </tr>\n",
       "    <tr>\n",
       "      <th>46</th>\n",
       "      <td>whole grid</td>\n",
       "      <td>186</td>\n",
       "      <td>1000</td>\n",
       "      <td>1429.595657</td>\n",
       "      <td>11071</td>\n",
       "      <td>7594</td>\n",
       "      <td>Expert (16x30) \\nwith mine count</td>\n",
       "      <td>18.6</td>\n",
       "    </tr>\n",
       "    <tr>\n",
       "      <th>15</th>\n",
       "      <td>whole grid</td>\n",
       "      <td>794</td>\n",
       "      <td>1000</td>\n",
       "      <td>59.170768</td>\n",
       "      <td>4622</td>\n",
       "      <td>3325</td>\n",
       "      <td>Beginner (9x9) \\nwithout mine count</td>\n",
       "      <td>79.4</td>\n",
       "    </tr>\n",
       "    <tr>\n",
       "      <th>31</th>\n",
       "      <td>whole grid</td>\n",
       "      <td>575</td>\n",
       "      <td>1000</td>\n",
       "      <td>272.629904</td>\n",
       "      <td>7634</td>\n",
       "      <td>5363</td>\n",
       "      <td>Intermediate (16x16) \\nwithout mine count</td>\n",
       "      <td>57.5</td>\n",
       "    </tr>\n",
       "    <tr>\n",
       "      <th>47</th>\n",
       "      <td>whole grid</td>\n",
       "      <td>172</td>\n",
       "      <td>1000</td>\n",
       "      <td>599.785770</td>\n",
       "      <td>11142</td>\n",
       "      <td>7612</td>\n",
       "      <td>Expert (16x30) \\nwithout mine count</td>\n",
       "      <td>17.2</td>\n",
       "    </tr>\n",
       "  </tbody>\n",
       "</table>\n",
       "</div>"
      ],
      "text/plain": [
       "   sample_size  wins  num_games  time_elapsed  samples_considered  \\\n",
       "14  whole grid   826       1000     69.757486                4533   \n",
       "30  whole grid   589       1000    494.558674                7461   \n",
       "46  whole grid   186       1000   1429.595657               11071   \n",
       "15  whole grid   794       1000     59.170768                4622   \n",
       "31  whole grid   575       1000    272.629904                7634   \n",
       "47  whole grid   172       1000    599.785770               11142   \n",
       "\n",
       "    samples_with_solutions                                 difficulty  \\\n",
       "14                    3275           Beginner (9x9) \\nwith mine count   \n",
       "30                    5276     Intermediate (16x16) \\nwith mine count   \n",
       "46                    7594           Expert (16x30) \\nwith mine count   \n",
       "15                    3325        Beginner (9x9) \\nwithout mine count   \n",
       "31                    5363  Intermediate (16x16) \\nwithout mine count   \n",
       "47                    7612        Expert (16x30) \\nwithout mine count   \n",
       "\n",
       "    win rate (%)  \n",
       "14          82.6  \n",
       "30          58.9  \n",
       "46          18.6  \n",
       "15          79.4  \n",
       "31          57.5  \n",
       "47          17.2  "
      ]
     },
     "execution_count": 72,
     "metadata": {},
     "output_type": "execute_result"
    }
   ],
   "source": [
    "data2[data2.sample_size == \"whole grid\"]"
   ]
  },
  {
   "cell_type": "code",
   "execution_count": null,
   "metadata": {},
   "outputs": [],
   "source": []
  }
 ],
 "metadata": {
  "kernelspec": {
   "display_name": "Python 3",
   "language": "python",
   "name": "python3"
  },
  "language_info": {
   "codemirror_mode": {
    "name": "ipython",
    "version": 3
   },
   "file_extension": ".py",
   "mimetype": "text/x-python",
   "name": "python",
   "nbconvert_exporter": "python",
   "pygments_lexer": "ipython3",
   "version": "3.8.5"
  }
 },
 "nbformat": 4,
 "nbformat_minor": 4
}
