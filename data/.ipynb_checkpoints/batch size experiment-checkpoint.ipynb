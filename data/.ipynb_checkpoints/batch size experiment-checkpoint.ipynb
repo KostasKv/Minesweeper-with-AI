{
 "cells": [
  {
   "cell_type": "code",
   "execution_count": 2,
   "metadata": {},
   "outputs": [],
   "source": [
    "import matplotlib.pyplot as plt\n",
    "import seaborn as sns\n",
    "import pandas as pd\n",
    "import numpy as np"
   ]
  },
  {
   "cell_type": "code",
   "execution_count": null,
   "metadata": {},
   "outputs": [],
   "source": [
    "datas = []\n",
    "\n",
    "for i in range(2, 8):\n",
    "    datas.append(pd.read_csv(f'Solver verification experimention ({i})'))\n",
    "    \n",
    "data = pd.read_csv('Solver verification experiment.csv')\n",
    "other_data = pd.read_csv('Solver verification experiment_other-data.csv')\n",
    "\n",
    "print(f\"Main data shape: {data.shape}\")\n",
    "data.head()"
   ]
  }
 ],
 "metadata": {
  "kernelspec": {
   "display_name": "Python 3",
   "language": "python",
   "name": "python3"
  },
  "language_info": {
   "codemirror_mode": {
    "name": "ipython",
    "version": 3
   },
   "file_extension": ".py",
   "mimetype": "text/x-python",
   "name": "python",
   "nbconvert_exporter": "python",
   "pygments_lexer": "ipython3",
   "version": "3.8.5"
  }
 },
 "nbformat": 4,
 "nbformat_minor": 2
}
