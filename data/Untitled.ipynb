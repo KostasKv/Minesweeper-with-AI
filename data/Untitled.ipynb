{
 "cells": [
  {
   "cell_type": "code",
   "execution_count": 1,
   "metadata": {},
   "outputs": [],
   "source": [
    "import matplotlib.pyplot as plt\n",
    "import seaborn as sns\n",
    "import pandas as pd"
   ]
  },
  {
   "cell_type": "code",
   "execution_count": 2,
   "metadata": {},
   "outputs": [
    {
     "data": {
      "text/html": [
       "<div>\n",
       "<style scoped>\n",
       "    .dataframe tbody tr th:only-of-type {\n",
       "        vertical-align: middle;\n",
       "    }\n",
       "\n",
       "    .dataframe tbody tr th {\n",
       "        vertical-align: top;\n",
       "    }\n",
       "\n",
       "    .dataframe thead th {\n",
       "        text-align: right;\n",
       "    }\n",
       "</style>\n",
       "<table border=\"1\" class=\"dataframe\">\n",
       "  <thead>\n",
       "    <tr style=\"text-align: right;\">\n",
       "      <th></th>\n",
       "      <th>difficulty</th>\n",
       "      <th>sample_size</th>\n",
       "      <th>mine_count_considered</th>\n",
       "      <th>wins</th>\n",
       "      <th>num_games</th>\n",
       "      <th>samples_considered</th>\n",
       "      <th>time_elapsed</th>\n",
       "    </tr>\n",
       "  </thead>\n",
       "  <tbody>\n",
       "    <tr>\n",
       "      <th>0</th>\n",
       "      <td>Beginner (9x9)</td>\n",
       "      <td>[4, 4]</td>\n",
       "      <td>True</td>\n",
       "      <td>30</td>\n",
       "      <td>100</td>\n",
       "      <td>3250</td>\n",
       "      <td>13.839860</td>\n",
       "    </tr>\n",
       "    <tr>\n",
       "      <th>1</th>\n",
       "      <td>Beginner (9x9)</td>\n",
       "      <td>[4, 4]</td>\n",
       "      <td>False</td>\n",
       "      <td>30</td>\n",
       "      <td>100</td>\n",
       "      <td>3258</td>\n",
       "      <td>13.019700</td>\n",
       "    </tr>\n",
       "    <tr>\n",
       "      <th>2</th>\n",
       "      <td>Beginner (9x9)</td>\n",
       "      <td>[5, 5]</td>\n",
       "      <td>True</td>\n",
       "      <td>72</td>\n",
       "      <td>100</td>\n",
       "      <td>2220</td>\n",
       "      <td>10.138655</td>\n",
       "    </tr>\n",
       "    <tr>\n",
       "      <th>3</th>\n",
       "      <td>Beginner (9x9)</td>\n",
       "      <td>[5, 5]</td>\n",
       "      <td>False</td>\n",
       "      <td>72</td>\n",
       "      <td>100</td>\n",
       "      <td>2227</td>\n",
       "      <td>9.338459</td>\n",
       "    </tr>\n",
       "    <tr>\n",
       "      <th>4</th>\n",
       "      <td>Beginner (9x9)</td>\n",
       "      <td>[6, 6]</td>\n",
       "      <td>True</td>\n",
       "      <td>72</td>\n",
       "      <td>100</td>\n",
       "      <td>1783</td>\n",
       "      <td>10.037750</td>\n",
       "    </tr>\n",
       "  </tbody>\n",
       "</table>\n",
       "</div>"
      ],
      "text/plain": [
       "       difficulty sample_size  mine_count_considered  wins  num_games  \\\n",
       "0  Beginner (9x9)      [4, 4]                   True    30        100   \n",
       "1  Beginner (9x9)      [4, 4]                  False    30        100   \n",
       "2  Beginner (9x9)      [5, 5]                   True    72        100   \n",
       "3  Beginner (9x9)      [5, 5]                  False    72        100   \n",
       "4  Beginner (9x9)      [6, 6]                   True    72        100   \n",
       "\n",
       "   samples_considered  time_elapsed  \n",
       "0                3250     13.839860  \n",
       "1                3258     13.019700  \n",
       "2                2220     10.138655  \n",
       "3                2227      9.338459  \n",
       "4                1783     10.037750  "
      ]
     },
     "execution_count": 2,
     "metadata": {},
     "output_type": "execute_result"
    }
   ],
   "source": [
    "data = pd.read_csv('experiment_sample_count_100_games.csv')\n",
    "data.head()\n"
   ]
  },
  {
   "cell_type": "code",
   "execution_count": 1,
   "metadata": {},
   "outputs": [
    {
     "ename": "NameError",
     "evalue": "name 'data' is not defined",
     "output_type": "error",
     "traceback": [
      "\u001b[1;31m---------------------------------------------------------------------------\u001b[0m",
      "\u001b[1;31mNameError\u001b[0m                                 Traceback (most recent call last)",
      "\u001b[1;32m<ipython-input-1-c5d84736ba45>\u001b[0m in \u001b[0;36m<module>\u001b[1;34m\u001b[0m\n\u001b[1;32m----> 1\u001b[1;33m \u001b[0mdata\u001b[0m\u001b[1;33m\u001b[0m\u001b[1;33m\u001b[0m\u001b[0m\n\u001b[0m",
      "\u001b[1;31mNameError\u001b[0m: name 'data' is not defined"
     ]
    }
   ],
   "source": [
    "data"
   ]
  },
  {
   "cell_type": "code",
   "execution_count": 7,
   "metadata": {},
   "outputs": [
    {
     "data": {
      "image/png": "[encoded data removed]",
      "text/plain": [
       "<Figure size 432x288 with 1 Axes>"
      ]
     },
     "metadata": {
      "needs_background": "light"
     },
     "output_type": "display_data"
    }
   ],
   "source": [
    "sns.barplot(x='difficulty', y='samples_considered', hue='sample_size', data=data)\n",
    "plt.show()"
   ]
  },
  {
   "cell_type": "code",
   "execution_count": 86,
   "metadata": {},
   "outputs": [
    {
     "data": {
      "text/plain": [
       "0            4x4\n",
       "2            5x5\n",
       "4            6x6\n",
       "6     whole grid\n",
       "8            4x4\n",
       "10           5x5\n",
       "12           6x6\n",
       "14    whole grid\n",
       "16           4x4\n",
       "18           5x5\n",
       "20           6x6\n",
       "22    whole grid\n",
       "1            4x4\n",
       "3            5x5\n",
       "5            6x6\n",
       "7     whole grid\n",
       "9            4x4\n",
       "11           5x5\n",
       "13           6x6\n",
       "15    whole grid\n",
       "17           4x4\n",
       "19           5x5\n",
       "21           6x6\n",
       "23    whole grid\n",
       "Name: sample_size, dtype: object"
      ]
     },
     "execution_count": 86,
     "metadata": {},
     "output_type": "execute_result"
    }
   ],
   "source": [
    "m = data['mine_count_considered'] == True\n",
    "df1, df2 = data[m], data[~m]\n",
    "df1 = df1.drop(columns=['mine_count_considered'])\n",
    "df2 = df2.drop(columns=['mine_count_considered'])\n",
    "\n",
    "df1.difficulty = df1.difficulty.apply(lambda x: x + ' \\nwithout mine count')\n",
    "df2.difficulty = df2.difficulty.apply(lambda x: x + ' \\nwith mine count')\n",
    "\n",
    "modified_data = pd.concat([df1, df2])\n",
    "\n",
    "modified_data.sample_size = modified_data.sample_size.apply(lambda x: 'x'.join(x.strip('[]').split(', ')))\n",
    "full_grid_sizes = ['10x10', '17x17', '32x18']\n",
    "modified_data.sample_size = modified_data.sample_size.replace(full_grid_sizes, 'whole grid')\n",
    "modified_data.sample_size"
   ]
  },
  {
   "cell_type": "code",
   "execution_count": 66,
   "metadata": {},
   "outputs": [
    {
     "data": {
      "text/plain": [
       "['Beginner (9x9) \\nwith mine count',\n",
       " 'Beginner (9x9) \\nwithout mine count',\n",
       " 'Expert (16x30) \\nwith mine count',\n",
       " 'Expert (16x30) \\nwithout mine count',\n",
       " 'Intermediate (16x16) \\nwith mine count',\n",
       " 'Intermediate (16x16) \\nwithout mine count']"
      ]
     },
     "execution_count": 66,
     "metadata": {},
     "output_type": "execute_result"
    }
   ],
   "source": [
    "order = sorted(list(modified_data.difficulty.unique()))\n",
    "order"
   ]
  },
  {
   "cell_type": "code",
   "execution_count": 87,
   "metadata": {},
   "outputs": [
    {
     "data": {
      "image/png": "[encoded data removed]",
      "text/plain": [
       "<Figure size 864x576 with 1 Axes>"
      ]
     },
     "metadata": {
      "needs_background": "light"
     },
     "output_type": "display_data"
    }
   ],
   "source": [
    "sns.barplot(x='difficulty',order=order, y='samples_considered', hue='sample_size', data=modified_data)\n",
    "\n",
    "fig = plt.gcf()\n",
    "fig.set_size_inches(12, 8)\n",
    "\n",
    "plt.show()"
   ]
  }
 ],
 "metadata": {
  "kernelspec": {
   "display_name": "Python 3",
   "language": "python",
   "name": "python3"
  },
  "language_info": {
   "codemirror_mode": {
    "name": "ipython",
    "version": 3
   },
   "file_extension": ".py",
   "mimetype": "text/x-python",
   "name": "python",
   "nbconvert_exporter": "python",
   "pygments_lexer": "ipython3",
   "version": "3.7.9"
  }
 },
 "nbformat": 4,
 "nbformat_minor": 4
}
