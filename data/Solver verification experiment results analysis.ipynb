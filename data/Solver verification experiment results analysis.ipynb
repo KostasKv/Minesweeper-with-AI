{
 "cells": [
  {
   "cell_type": "code",
   "execution_count": 1,
   "metadata": {},
   "outputs": [],
   "source": [
    "import matplotlib.pyplot as plt\n",
    "import seaborn as sns\n",
    "import pandas as pd\n",
    "import numpy as np"
   ]
  },
  {
   "cell_type": "markdown",
   "metadata": {},
   "source": [
    "# Load data"
   ]
  },
  {
   "cell_type": "code",
   "execution_count": 107,
   "metadata": {},
   "outputs": [
    {
     "name": "stdout",
     "output_type": "stream",
     "text": [
      "Main data shape: (3000, 11)\n"
     ]
    },
    {
     "data": {
      "text/html": [
       "<div>\n",
       "<style scoped>\n",
       "    .dataframe tbody tr th:only-of-type {\n",
       "        vertical-align: middle;\n",
       "    }\n",
       "\n",
       "    .dataframe tbody tr th {\n",
       "        vertical-align: top;\n",
       "    }\n",
       "\n",
       "    .dataframe thead th {\n",
       "        text-align: right;\n",
       "    }\n",
       "</style>\n",
       "<table border=\"1\" class=\"dataframe\">\n",
       "  <thead>\n",
       "    <tr style=\"text-align: right;\">\n",
       "      <th></th>\n",
       "      <th>wins</th>\n",
       "      <th>wins_without_guess</th>\n",
       "      <th>time_elapsed</th>\n",
       "      <th>samples_considered</th>\n",
       "      <th>samples_with_solutions</th>\n",
       "      <th>difficulty</th>\n",
       "      <th>sample_size</th>\n",
       "      <th>use_num_mines_constraint</th>\n",
       "      <th>first_click_pos</th>\n",
       "      <th>first_click_is_zero</th>\n",
       "      <th>parameters_id</th>\n",
       "    </tr>\n",
       "  </thead>\n",
       "  <tbody>\n",
       "    <tr>\n",
       "      <th>0</th>\n",
       "      <td>48</td>\n",
       "      <td>46</td>\n",
       "      <td>1.999817</td>\n",
       "      <td>159</td>\n",
       "      <td>155</td>\n",
       "      <td>Beginner (9x9)</td>\n",
       "      <td>11x11</td>\n",
       "      <td>True</td>\n",
       "      <td>(3, 3)</td>\n",
       "      <td>True</td>\n",
       "      <td>1</td>\n",
       "    </tr>\n",
       "    <tr>\n",
       "      <th>1</th>\n",
       "      <td>48</td>\n",
       "      <td>48</td>\n",
       "      <td>2.109485</td>\n",
       "      <td>162</td>\n",
       "      <td>160</td>\n",
       "      <td>Beginner (9x9)</td>\n",
       "      <td>11x11</td>\n",
       "      <td>True</td>\n",
       "      <td>(3, 3)</td>\n",
       "      <td>True</td>\n",
       "      <td>1</td>\n",
       "    </tr>\n",
       "    <tr>\n",
       "      <th>2</th>\n",
       "      <td>47</td>\n",
       "      <td>46</td>\n",
       "      <td>2.234476</td>\n",
       "      <td>168</td>\n",
       "      <td>163</td>\n",
       "      <td>Beginner (9x9)</td>\n",
       "      <td>11x11</td>\n",
       "      <td>True</td>\n",
       "      <td>(3, 3)</td>\n",
       "      <td>True</td>\n",
       "      <td>1</td>\n",
       "    </tr>\n",
       "    <tr>\n",
       "      <th>3</th>\n",
       "      <td>49</td>\n",
       "      <td>45</td>\n",
       "      <td>2.265723</td>\n",
       "      <td>155</td>\n",
       "      <td>149</td>\n",
       "      <td>Beginner (9x9)</td>\n",
       "      <td>11x11</td>\n",
       "      <td>True</td>\n",
       "      <td>(3, 3)</td>\n",
       "      <td>True</td>\n",
       "      <td>1</td>\n",
       "    </tr>\n",
       "    <tr>\n",
       "      <th>4</th>\n",
       "      <td>47</td>\n",
       "      <td>44</td>\n",
       "      <td>2.468828</td>\n",
       "      <td>163</td>\n",
       "      <td>156</td>\n",
       "      <td>Beginner (9x9)</td>\n",
       "      <td>11x11</td>\n",
       "      <td>True</td>\n",
       "      <td>(3, 3)</td>\n",
       "      <td>True</td>\n",
       "      <td>1</td>\n",
       "    </tr>\n",
       "  </tbody>\n",
       "</table>\n",
       "</div>"
      ],
      "text/plain": [
       "   wins  wins_without_guess  time_elapsed  samples_considered  \\\n",
       "0    48                  46      1.999817                 159   \n",
       "1    48                  48      2.109485                 162   \n",
       "2    47                  46      2.234476                 168   \n",
       "3    49                  45      2.265723                 155   \n",
       "4    47                  44      2.468828                 163   \n",
       "\n",
       "   samples_with_solutions      difficulty sample_size  \\\n",
       "0                     155  Beginner (9x9)       11x11   \n",
       "1                     160  Beginner (9x9)       11x11   \n",
       "2                     163  Beginner (9x9)       11x11   \n",
       "3                     149  Beginner (9x9)       11x11   \n",
       "4                     156  Beginner (9x9)       11x11   \n",
       "\n",
       "   use_num_mines_constraint first_click_pos  first_click_is_zero  \\\n",
       "0                      True          (3, 3)                 True   \n",
       "1                      True          (3, 3)                 True   \n",
       "2                      True          (3, 3)                 True   \n",
       "3                      True          (3, 3)                 True   \n",
       "4                      True          (3, 3)                 True   \n",
       "\n",
       "   parameters_id  \n",
       "0              1  \n",
       "1              1  \n",
       "2              1  \n",
       "3              1  \n",
       "4              1  "
      ]
     },
     "execution_count": 107,
     "metadata": {},
     "output_type": "execute_result"
    }
   ],
   "source": [
    "data = pd.read_csv('Solver verification experiment.csv')\n",
    "other_data = pd.read_csv('Solver verification experiment_other-data.csv')\n",
    "\n",
    "print(f\"Main data shape: {data.shape}\")\n",
    "data.head()"
   ]
  },
  {
   "cell_type": "code",
   "execution_count": 108,
   "metadata": {},
   "outputs": [
    {
     "name": "stdout",
     "output_type": "stream",
     "text": [
      "Other data shape: (1, 8)\n"
     ]
    },
    {
     "data": {
      "text/html": [
       "<div>\n",
       "<style scoped>\n",
       "    .dataframe tbody tr th:only-of-type {\n",
       "        vertical-align: middle;\n",
       "    }\n",
       "\n",
       "    .dataframe tbody tr th {\n",
       "        vertical-align: top;\n",
       "    }\n",
       "\n",
       "    .dataframe thead th {\n",
       "        text-align: right;\n",
       "    }\n",
       "</style>\n",
       "<table border=\"1\" class=\"dataframe\">\n",
       "  <thead>\n",
       "    <tr style=\"text-align: right;\">\n",
       "      <th></th>\n",
       "      <th>sample_size</th>\n",
       "      <th>use_num_mines_constraint</th>\n",
       "      <th>first_click_pos</th>\n",
       "      <th>num_games</th>\n",
       "      <th>verbose</th>\n",
       "      <th>visualise</th>\n",
       "      <th>agent_seed</th>\n",
       "      <th>run_seed</th>\n",
       "    </tr>\n",
       "  </thead>\n",
       "  <tbody>\n",
       "    <tr>\n",
       "      <th>0</th>\n",
       "      <td>NaN</td>\n",
       "      <td>True</td>\n",
       "      <td>(3, 3)</td>\n",
       "      <td>50000</td>\n",
       "      <td>False</td>\n",
       "      <td>False</td>\n",
       "      <td>20</td>\n",
       "      <td>2020</td>\n",
       "    </tr>\n",
       "  </tbody>\n",
       "</table>\n",
       "</div>"
      ],
      "text/plain": [
       "   sample_size  use_num_mines_constraint first_click_pos  num_games  verbose  \\\n",
       "0          NaN                      True          (3, 3)      50000    False   \n",
       "\n",
       "   visualise  agent_seed  run_seed  \n",
       "0      False          20      2020  "
      ]
     },
     "execution_count": 108,
     "metadata": {},
     "output_type": "execute_result"
    }
   ],
   "source": [
    "print(f\"Other data shape: {other_data.shape}\")\n",
    "other_data"
   ]
  },
  {
   "cell_type": "markdown",
   "metadata": {},
   "source": [
    "# Analyse"
   ]
  },
  {
   "cell_type": "code",
   "execution_count": 109,
   "metadata": {},
   "outputs": [],
   "source": [
    "# Group by parameters combo and sum up columns of interest\n",
    "data_sum = data.groupby(['parameters_id'], as_index=False).agg({\n",
    "    'difficulty': 'first',\n",
    "    'wins': 'sum',\n",
    "    'wins_without_guess' : 'sum',\n",
    "    'time_elapsed' : 'sum',\n",
    "    'samples_considered' : 'sum',\n",
    "    'samples_with_solutions' : 'sum',\n",
    "    })\n",
    "\n",
    "# Remove id column as the difficulty it represents is enough info and has already been included\n",
    "data_sum = data_sum.drop('parameters_id', axis=1)"
   ]
  },
  {
   "cell_type": "code",
   "execution_count": 110,
   "metadata": {},
   "outputs": [],
   "source": [
    "# Calculate win rates and insert into new columns\n",
    "num_games = other_data['num_games'][0]\n",
    "data_sum['win rate (%)'] = data_sum['wins'] / num_games * 100\n",
    "data_sum['win rate without guess (%)'] = data_sum['wins_without_guess'] / num_games * 100"
   ]
  },
  {
   "cell_type": "code",
   "execution_count": 114,
   "metadata": {},
   "outputs": [],
   "source": [
    "#~92% Beginner ~72% Intermediate ~16% Expert\n",
    "data_sum['external_solver_data'] = False\n",
    "data_sum = data_sum.append([\n",
    "    {'difficulty': 'Beginner (9x9)', 'external_solver_data' : True, 'win rate without guess (%)' : 92},\n",
    "    {'difficulty': 'Intermediate (16x16)', 'external_solver_data' : True, 'win rate without guess (%)' : 72},\n",
    "    {'difficulty': 'Expert (16x30)', 'external_solver_data' : True, 'win rate without guess (%)' : 16}\n",
    "], ignore_index=True)"
   ]
  },
  {
   "cell_type": "code",
   "execution_count": 115,
   "metadata": {},
   "outputs": [
    {
     "data": {
      "image/png": "[encoded data removed]",
      "text/plain": [
       "<Figure size 864x576 with 1 Axes>"
      ]
     },
     "metadata": {
      "needs_background": "light"
     },
     "output_type": "display_data"
    }
   ],
   "source": [
    "sns.barplot(x='difficulty', y='win rate without guess (%)', hue='external_solver_data', data=data_sum)\n",
    "fig = plt.gcf()\n",
    "fig.set_size_inches(12, 8)\n",
    "plt.show()"
   ]
  },
  {
   "cell_type": "code",
   "execution_count": 207,
   "metadata": {},
   "outputs": [
    {
     "name": "stdout",
     "output_type": "stream",
     "text": [
      "Beginner (9x9): -1.18%\n",
      "Intermediate (16x16): -1.64%\n",
      "Expert (16x30): -1.43%\n"
     ]
    }
   ],
   "source": [
    "# Print difference from expected win rates (actual - expected) for each difficulty\n",
    "current = data_sum[data_sum['external_solver_data'] == False]\n",
    "external = data_sum[data_sum['external_solver_data'] == True]\n",
    "\n",
    "for i in current.index:\n",
    "    row = current.iloc[i]\n",
    "    matching_external_row = external[external['difficulty'] == row.difficulty].iloc[0]\n",
    "    win_rate_diff = row['win rate without guess (%)'] - matching_external_row['win rate without guess (%)']\n",
    "    win_rate_diff = round(win_rate_diff, 2)\n",
    "    print(f\"{row.difficulty}: {win_rate_diff}%\")"
   ]
  },
  {
   "cell_type": "code",
   "execution_count": 208,
   "metadata": {},
   "outputs": [
    {
     "data": {
      "text/html": [
       "<div>\n",
       "<style scoped>\n",
       "    .dataframe tbody tr th:only-of-type {\n",
       "        vertical-align: middle;\n",
       "    }\n",
       "\n",
       "    .dataframe tbody tr th {\n",
       "        vertical-align: top;\n",
       "    }\n",
       "\n",
       "    .dataframe thead th {\n",
       "        text-align: right;\n",
       "    }\n",
       "</style>\n",
       "<table border=\"1\" class=\"dataframe\">\n",
       "  <thead>\n",
       "    <tr style=\"text-align: right;\">\n",
       "      <th></th>\n",
       "      <th>wins</th>\n",
       "      <th>wins_without_guess</th>\n",
       "      <th>num_games</th>\n",
       "      <th>difficulty</th>\n",
       "    </tr>\n",
       "  </thead>\n",
       "  <tbody>\n",
       "    <tr>\n",
       "      <th>0</th>\n",
       "      <td>48</td>\n",
       "      <td>46</td>\n",
       "      <td>50</td>\n",
       "      <td>Beginner (9x9)</td>\n",
       "    </tr>\n",
       "    <tr>\n",
       "      <th>1</th>\n",
       "      <td>96</td>\n",
       "      <td>94</td>\n",
       "      <td>100</td>\n",
       "      <td>Beginner (9x9)</td>\n",
       "    </tr>\n",
       "    <tr>\n",
       "      <th>2</th>\n",
       "      <td>143</td>\n",
       "      <td>140</td>\n",
       "      <td>150</td>\n",
       "      <td>Beginner (9x9)</td>\n",
       "    </tr>\n",
       "    <tr>\n",
       "      <th>3</th>\n",
       "      <td>192</td>\n",
       "      <td>185</td>\n",
       "      <td>200</td>\n",
       "      <td>Beginner (9x9)</td>\n",
       "    </tr>\n",
       "    <tr>\n",
       "      <th>4</th>\n",
       "      <td>239</td>\n",
       "      <td>229</td>\n",
       "      <td>250</td>\n",
       "      <td>Beginner (9x9)</td>\n",
       "    </tr>\n",
       "    <tr>\n",
       "      <th>...</th>\n",
       "      <td>...</td>\n",
       "      <td>...</td>\n",
       "      <td>...</td>\n",
       "      <td>...</td>\n",
       "    </tr>\n",
       "    <tr>\n",
       "      <th>2995</th>\n",
       "      <td>18015</td>\n",
       "      <td>7254</td>\n",
       "      <td>49800</td>\n",
       "      <td>Expert (16x30)</td>\n",
       "    </tr>\n",
       "    <tr>\n",
       "      <th>2996</th>\n",
       "      <td>18031</td>\n",
       "      <td>7261</td>\n",
       "      <td>49850</td>\n",
       "      <td>Expert (16x30)</td>\n",
       "    </tr>\n",
       "    <tr>\n",
       "      <th>2997</th>\n",
       "      <td>18044</td>\n",
       "      <td>7266</td>\n",
       "      <td>49900</td>\n",
       "      <td>Expert (16x30)</td>\n",
       "    </tr>\n",
       "    <tr>\n",
       "      <th>2998</th>\n",
       "      <td>18067</td>\n",
       "      <td>7271</td>\n",
       "      <td>49950</td>\n",
       "      <td>Expert (16x30)</td>\n",
       "    </tr>\n",
       "    <tr>\n",
       "      <th>2999</th>\n",
       "      <td>18089</td>\n",
       "      <td>7283</td>\n",
       "      <td>50000</td>\n",
       "      <td>Expert (16x30)</td>\n",
       "    </tr>\n",
       "  </tbody>\n",
       "</table>\n",
       "<p>3000 rows × 4 columns</p>\n",
       "</div>"
      ],
      "text/plain": [
       "       wins  wins_without_guess  num_games      difficulty\n",
       "0        48                  46         50  Beginner (9x9)\n",
       "1        96                  94        100  Beginner (9x9)\n",
       "2       143                 140        150  Beginner (9x9)\n",
       "3       192                 185        200  Beginner (9x9)\n",
       "4       239                 229        250  Beginner (9x9)\n",
       "...     ...                 ...        ...             ...\n",
       "2995  18015                7254      49800  Expert (16x30)\n",
       "2996  18031                7261      49850  Expert (16x30)\n",
       "2997  18044                7266      49900  Expert (16x30)\n",
       "2998  18067                7271      49950  Expert (16x30)\n",
       "2999  18089                7283      50000  Expert (16x30)\n",
       "\n",
       "[3000 rows x 4 columns]"
      ]
     },
     "execution_count": 208,
     "metadata": {},
     "output_type": "execute_result"
    }
   ],
   "source": [
    "# Get cumulative sum for wins\n",
    "data_cum_sums = pd.DataFrame(data.groupby('difficulty')[['wins', 'wins_without_guess']].cumsum())\n",
    "\n",
    "# Append column showing how many games have been played overall for each row (50 games per row that\n",
    "# shows up in-order for that difficulty)\n",
    "data_cum_sums['num_games'] = 50 * (data.groupby('difficulty').cumcount() + 1)\n",
    "\n",
    "# Append difficulty column\n",
    "data_cum_sums['difficulty'] = data['difficulty']\n",
    "\n",
    "data_cum_sums"
   ]
  },
  {
   "cell_type": "code",
   "execution_count": 213,
   "metadata": {},
   "outputs": [],
   "source": [
    "# Calculate win rates and insert into new columns\n",
    "data_cum_sums['win rate (%)'] = round(data_cum_sums['wins'] / data_cum_sums['num_games'] * 100, 2)\n",
    "data_cum_sums['win rate without guess (%)'] = round(data_cum_sums['wins_without_guess'] / data_cum_sums['num_games'] * 100, 2)"
   ]
  },
  {
   "cell_type": "code",
   "execution_count": 214,
   "metadata": {},
   "outputs": [
    {
     "data": {
      "image/png": "[encoded data removed]",
      "text/plain": [
       "<Figure size 432x288 with 1 Axes>"
      ]
     },
     "metadata": {
      "needs_background": "light"
     },
     "output_type": "display_data"
    }
   ],
   "source": [
    "sns.lineplot(x='num_games', y='win rate without guess (%)', hue='difficulty', data=data_cum_sums)\n",
    "plt.show()"
   ]
  },
  {
   "cell_type": "code",
   "execution_count": 215,
   "metadata": {},
   "outputs": [
    {
     "data": {
      "image/png": "[encoded data removed]",
      "text/plain": [
       "<Figure size 432x288 with 1 Axes>"
      ]
     },
     "metadata": {
      "needs_background": "light"
     },
     "output_type": "display_data"
    }
   ],
   "source": [
    "sns.lineplot(x='num_games', y='win rate (%)', hue='difficulty', data=data_cum_sums)\n",
    "plt.show()"
   ]
  },
  {
   "cell_type": "code",
   "execution_count": 220,
   "metadata": {},
   "outputs": [
    {
     "data": {
      "text/plain": [
       "36.18"
      ]
     },
     "execution_count": 220,
     "metadata": {},
     "output_type": "execute_result"
    }
   ],
   "source": [
    "x = data_cum_sums['win rate (%)'].iloc[-1]\n",
    "x"
   ]
  },
  {
   "cell_type": "code",
   "execution_count": 252,
   "metadata": {},
   "outputs": [
    {
     "data": {
      "text/plain": [
       "2100   -0.75\n",
       "2101   -0.71\n",
       "2102   -0.67\n",
       "2103   -0.60\n",
       "2104   -0.64\n",
       "        ... \n",
       "2995   -0.01\n",
       "2996   -0.01\n",
       "2997   -0.02\n",
       "2998   -0.01\n",
       "2999    0.00\n",
       "Name: win rate (%), Length: 900, dtype: float64"
      ]
     },
     "execution_count": 252,
     "metadata": {},
     "output_type": "execute_result"
    }
   ],
   "source": [
    "y = ((data_cum_sums[data_cum_sums.difficulty == 'Expert (16x30)']['win rate (%)'] - x))\n",
    "y[100:]"
   ]
  },
  {
   "cell_type": "code",
   "execution_count": 254,
   "metadata": {},
   "outputs": [
    {
     "data": {
      "image/png": "[encoded data removed]",
      "text/plain": [
       "<Figure size 432x288 with 1 Axes>"
      ]
     },
     "metadata": {
      "needs_background": "light"
     },
     "output_type": "display_data"
    }
   ],
   "source": [
    "sns.lineplot(x='num_games', y=y[100:], hue='difficulty', data=data_cum_sums[100:])\n",
    "plt.show()"
   ]
  }
 ],
 "metadata": {
  "kernelspec": {
   "display_name": "Python 3",
   "language": "python",
   "name": "python3"
  },
  "language_info": {
   "codemirror_mode": {
    "name": "ipython",
    "version": 3
   },
   "file_extension": ".py",
   "mimetype": "text/x-python",
   "name": "python",
   "nbconvert_exporter": "python",
   "pygments_lexer": "ipython3",
   "version": "3.8.5"
  }
 },
 "nbformat": 4,
 "nbformat_minor": 4
}
